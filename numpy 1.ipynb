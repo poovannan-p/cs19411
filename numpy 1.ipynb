{
 "cells": [
  {
   "cell_type": "code",
   "execution_count": 1,
   "id": "dfb73a00",
   "metadata": {},
   "outputs": [],
   "source": [
    "import numpy as np"
   ]
  },
  {
   "cell_type": "code",
   "execution_count": 2,
   "id": "fd92c32c",
   "metadata": {},
   "outputs": [
    {
     "name": "stdout",
     "output_type": "stream",
     "text": [
      "[1 2 3 4]\n"
     ]
    }
   ],
   "source": [
    "a=np.array([1,2,3,4])\n",
    "print(a)"
   ]
  },
  {
   "cell_type": "code",
   "execution_count": 3,
   "id": "eca57311",
   "metadata": {},
   "outputs": [
    {
     "name": "stdout",
     "output_type": "stream",
     "text": [
      "[[ 1  2  3  4]\n",
      " [ 5  6  7  8]\n",
      " [10 11 12 13]]\n"
     ]
    }
   ],
   "source": [
    "b=np.array([[1,2,3,4],[5,6,7,8],[10,11,12,13]])\n",
    "print(b)"
   ]
  },
  {
   "cell_type": "code",
   "execution_count": 10,
   "id": "978df901",
   "metadata": {},
   "outputs": [
    {
     "name": "stdout",
     "output_type": "stream",
     "text": [
      "[[0. 0.]\n",
      " [0. 0.]]\n"
     ]
    }
   ],
   "source": [
    "c=np.zeros((2,2))\n",
    "print(c)"
   ]
  },
  {
   "cell_type": "code",
   "execution_count": 11,
   "id": "77db9d1f",
   "metadata": {},
   "outputs": [
    {
     "name": "stdout",
     "output_type": "stream",
     "text": [
      "[[4 4 4 4]\n",
      " [4 4 4 4]\n",
      " [4 4 4 4]]\n"
     ]
    }
   ],
   "source": [
    "d=np.full((3,4),4)\n",
    "print(d)"
   ]
  },
  {
   "cell_type": "code",
   "execution_count": 12,
   "id": "febd8eb7",
   "metadata": {},
   "outputs": [
    {
     "name": "stdout",
     "output_type": "stream",
     "text": [
      "[[0.65614471 0.9430195  0.45212383]\n",
      " [0.70205419 0.21959894 0.41389157]\n",
      " [0.32549376 0.89539192 0.19060261]]\n"
     ]
    }
   ],
   "source": [
    "e=np.random.random((3,3))\n",
    "print(e)"
   ]
  },
  {
   "cell_type": "code",
   "execution_count": 13,
   "id": "233035cc",
   "metadata": {},
   "outputs": [
    {
     "name": "stdout",
     "output_type": "stream",
     "text": [
      "[ 2.   2.5  3.   3.5  4.   4.5  5.   5.5  6.   6.5  7.   7.5  8.   8.5\n",
      "  9.   9.5 10.  10.5 11.  11.5 12.  12.5 13.  13.5 14.  14.5 15.  15.5\n",
      " 16.  16.5 17.  17.5 18.  18.5 19.  19.5 20.  20.5 21.  21.5 22.  22.5\n",
      " 23.  23.5 24.  24.5 25.  25.5 26.  26.5 27.  27.5 28.  28.5 29.  29.5\n",
      " 30.  30.5 31.  31.5 32.  32.5 33.  33.5 34.  34.5 35.  35.5 36.  36.5\n",
      " 37.  37.5 38.  38.5 39.  39.5 40.  40.5 41.  41.5 42.  42.5 43.  43.5\n",
      " 44.  44.5 45.  45.5 46.  46.5 47.  47.5 48.  48.5 49.  49.5 50.  50.5\n",
      " 51.  51.5 52.  52.5 53.  53.5 54.  54.5 55.  55.5 56.  56.5 57.  57.5\n",
      " 58.  58.5 59.  59.5 60.  60.5 61.  61.5 62.  62.5 63.  63.5 64.  64.5\n",
      " 65.  65.5 66.  66.5 67.  67.5 68.  68.5 69.  69.5 70.  70.5 71.  71.5\n",
      " 72.  72.5 73.  73.5 74.  74.5 75.  75.5 76.  76.5 77.  77.5 78.  78.5\n",
      " 79.  79.5 80.  80.5 81.  81.5 82.  82.5 83.  83.5 84.  84.5 85.  85.5\n",
      " 86.  86.5 87.  87.5 88.  88.5 89.  89.5 90.  90.5 91.  91.5 92.  92.5\n",
      " 93.  93.5 94.  94.5 95.  95.5 96.  96.5 97.  97.5 98.  98.5]\n"
     ]
    }
   ],
   "source": [
    "f=np.arange(2,99,0.5)\n",
    "print(f)"
   ]
  },
  {
   "cell_type": "code",
   "execution_count": 16,
   "id": "ec93b4c7",
   "metadata": {},
   "outputs": [
    {
     "name": "stdout",
     "output_type": "stream",
     "text": [
      "[[4 4 4 4 4 4]\n",
      " [4 4 4 4 4 4]]\n"
     ]
    }
   ],
   "source": [
    "h=d.reshape((2,6))\n",
    "print(h)"
   ]
  },
  {
   "cell_type": "code",
   "execution_count": 18,
   "id": "af51e22f",
   "metadata": {},
   "outputs": [
    {
     "name": "stdout",
     "output_type": "stream",
     "text": [
      "[4 4 4 4 4 4 4 4 4 4 4 4]\n"
     ]
    }
   ],
   "source": [
    "k=d.flatten()\n",
    "print(k)"
   ]
  },
  {
   "cell_type": "code",
   "execution_count": 19,
   "id": "89b09994",
   "metadata": {},
   "outputs": [
    {
     "name": "stdout",
     "output_type": "stream",
     "text": [
      "(194,)\n"
     ]
    }
   ],
   "source": [
    "print(f.shape)"
   ]
  },
  {
   "cell_type": "code",
   "execution_count": 20,
   "id": "3b4a3623",
   "metadata": {},
   "outputs": [
    {
     "data": {
      "text/plain": [
       "194"
      ]
     },
     "execution_count": 20,
     "metadata": {},
     "output_type": "execute_result"
    }
   ],
   "source": [
    "len(f)"
   ]
  },
  {
   "cell_type": "code",
   "execution_count": 21,
   "id": "ade000e9",
   "metadata": {},
   "outputs": [
    {
     "name": "stdout",
     "output_type": "stream",
     "text": [
      "float64\n"
     ]
    }
   ],
   "source": [
    "print(f.dtype)"
   ]
  },
  {
   "cell_type": "code",
   "execution_count": 24,
   "id": "393b86c0",
   "metadata": {},
   "outputs": [
    {
     "name": "stdout",
     "output_type": "stream",
     "text": [
      "[ 2  2  3  3  4  4  5  5  6  6  7  7  8  8  9  9 10 10 11 11 12 12 13 13\n",
      " 14 14 15 15 16 16 17 17 18 18 19 19 20 20 21 21 22 22 23 23 24 24 25 25\n",
      " 26 26 27 27 28 28 29 29 30 30 31 31 32 32 33 33 34 34 35 35 36 36 37 37\n",
      " 38 38 39 39 40 40 41 41 42 42 43 43 44 44 45 45 46 46 47 47 48 48 49 49\n",
      " 50 50 51 51 52 52 53 53 54 54 55 55 56 56 57 57 58 58 59 59 60 60 61 61\n",
      " 62 62 63 63 64 64 65 65 66 66 67 67 68 68 69 69 70 70 71 71 72 72 73 73\n",
      " 74 74 75 75 76 76 77 77 78 78 79 79 80 80 81 81 82 82 83 83 84 84 85 85\n",
      " 86 86 87 87 88 88 89 89 90 90 91 91 92 92 93 93 94 94 95 95 96 96 97 97\n",
      " 98 98]\n"
     ]
    }
   ],
   "source": [
    "print(f.astype('int'))"
   ]
  },
  {
   "cell_type": "code",
   "execution_count": 25,
   "id": "76daa408",
   "metadata": {},
   "outputs": [
    {
     "data": {
      "text/plain": [
       "array([ 2. ,  2.5,  3. ,  3.5,  4. ,  4.5,  5. ,  5.5,  6. ,  6.5,  7. ,\n",
       "        7.5,  8. ,  8.5,  9. ,  9.5, 10. , 10.5, 11. , 11.5, 12. , 12.5,\n",
       "       13. , 13.5, 14. , 14.5, 15. , 15.5, 16. , 16.5, 17. , 17.5, 18. ,\n",
       "       18.5, 19. , 19.5, 20. , 20.5, 21. , 21.5, 22. , 22.5, 23. , 23.5,\n",
       "       24. , 24.5, 25. , 25.5, 26. , 26.5, 27. , 27.5, 28. , 28.5, 29. ,\n",
       "       29.5, 30. , 30.5, 31. , 31.5, 32. , 32.5, 33. , 33.5, 34. , 34.5,\n",
       "       35. , 35.5, 36. , 36.5, 37. , 37.5, 38. , 38.5, 39. , 39.5, 40. ,\n",
       "       40.5, 41. , 41.5, 42. , 42.5, 43. , 43.5, 44. , 44.5, 45. , 45.5,\n",
       "       46. , 46.5, 47. , 47.5, 48. , 48.5, 49. , 49.5, 50. , 50.5, 51. ,\n",
       "       51.5, 52. , 52.5, 53. , 53.5, 54. , 54.5, 55. , 55.5, 56. , 56.5,\n",
       "       57. , 57.5, 58. , 58.5, 59. , 59.5, 60. , 60.5, 61. , 61.5, 62. ,\n",
       "       62.5, 63. , 63.5, 64. , 64.5, 65. , 65.5, 66. , 66.5, 67. , 67.5,\n",
       "       68. , 68.5, 69. , 69.5, 70. , 70.5, 71. , 71.5, 72. , 72.5, 73. ,\n",
       "       73.5, 74. , 74.5, 75. , 75.5, 76. , 76.5])"
      ]
     },
     "execution_count": 25,
     "metadata": {},
     "output_type": "execute_result"
    }
   ],
   "source": [
    "f[0:150]"
   ]
  },
  {
   "cell_type": "code",
   "execution_count": 26,
   "id": "e129d15f",
   "metadata": {},
   "outputs": [
    {
     "name": "stdout",
     "output_type": "stream",
     "text": [
      "[1 2 3 4]\n"
     ]
    }
   ],
   "source": [
    "print(a)"
   ]
  },
  {
   "cell_type": "code",
   "execution_count": 27,
   "id": "921311cf",
   "metadata": {},
   "outputs": [
    {
     "name": "stdout",
     "output_type": "stream",
     "text": [
      "[[ 1  2  3  4]\n",
      " [ 5  6  7  8]\n",
      " [10 11 12 13]]\n"
     ]
    }
   ],
   "source": [
    "print(b)"
   ]
  },
  {
   "cell_type": "code",
   "execution_count": 28,
   "id": "37364421",
   "metadata": {},
   "outputs": [
    {
     "data": {
      "text/plain": [
       "array([[ 1,  2,  3,  4],\n",
       "       [10, 11, 12, 13]])"
      ]
     },
     "execution_count": 28,
     "metadata": {},
     "output_type": "execute_result"
    }
   ],
   "source": [
    "b[0:3:2]"
   ]
  },
  {
   "cell_type": "code",
   "execution_count": 33,
   "id": "6c7b52cb",
   "metadata": {},
   "outputs": [
    {
     "data": {
      "text/plain": [
       "97.0"
      ]
     },
     "execution_count": 33,
     "metadata": {},
     "output_type": "execute_result"
    }
   ],
   "source": [
    "194/2"
   ]
  },
  {
   "cell_type": "code",
   "execution_count": 38,
   "id": "60fde24f",
   "metadata": {},
   "outputs": [
    {
     "name": "stdout",
     "output_type": "stream",
     "text": [
      "[[ 2.   2.5]\n",
      " [ 3.   3.5]\n",
      " [ 4.   4.5]\n",
      " [ 5.   5.5]\n",
      " [ 6.   6.5]\n",
      " [ 7.   7.5]\n",
      " [ 8.   8.5]\n",
      " [ 9.   9.5]\n",
      " [10.  10.5]\n",
      " [11.  11.5]\n",
      " [12.  12.5]\n",
      " [13.  13.5]\n",
      " [14.  14.5]\n",
      " [15.  15.5]\n",
      " [16.  16.5]\n",
      " [17.  17.5]\n",
      " [18.  18.5]\n",
      " [19.  19.5]\n",
      " [20.  20.5]\n",
      " [21.  21.5]\n",
      " [22.  22.5]\n",
      " [23.  23.5]\n",
      " [24.  24.5]\n",
      " [25.  25.5]\n",
      " [26.  26.5]\n",
      " [27.  27.5]\n",
      " [28.  28.5]\n",
      " [29.  29.5]\n",
      " [30.  30.5]\n",
      " [31.  31.5]\n",
      " [32.  32.5]\n",
      " [33.  33.5]\n",
      " [34.  34.5]\n",
      " [35.  35.5]\n",
      " [36.  36.5]\n",
      " [37.  37.5]\n",
      " [38.  38.5]\n",
      " [39.  39.5]\n",
      " [40.  40.5]\n",
      " [41.  41.5]\n",
      " [42.  42.5]\n",
      " [43.  43.5]\n",
      " [44.  44.5]\n",
      " [45.  45.5]\n",
      " [46.  46.5]\n",
      " [47.  47.5]\n",
      " [48.  48.5]\n",
      " [49.  49.5]\n",
      " [50.  50.5]\n",
      " [51.  51.5]\n",
      " [52.  52.5]\n",
      " [53.  53.5]\n",
      " [54.  54.5]\n",
      " [55.  55.5]\n",
      " [56.  56.5]\n",
      " [57.  57.5]\n",
      " [58.  58.5]\n",
      " [59.  59.5]\n",
      " [60.  60.5]\n",
      " [61.  61.5]\n",
      " [62.  62.5]\n",
      " [63.  63.5]\n",
      " [64.  64.5]\n",
      " [65.  65.5]\n",
      " [66.  66.5]\n",
      " [67.  67.5]\n",
      " [68.  68.5]\n",
      " [69.  69.5]\n",
      " [70.  70.5]\n",
      " [71.  71.5]\n",
      " [72.  72.5]\n",
      " [73.  73.5]\n",
      " [74.  74.5]\n",
      " [75.  75.5]\n",
      " [76.  76.5]\n",
      " [77.  77.5]\n",
      " [78.  78.5]\n",
      " [79.  79.5]\n",
      " [80.  80.5]\n",
      " [81.  81.5]\n",
      " [82.  82.5]\n",
      " [83.  83.5]\n",
      " [84.  84.5]\n",
      " [85.  85.5]\n",
      " [86.  86.5]\n",
      " [87.  87.5]\n",
      " [88.  88.5]\n",
      " [89.  89.5]\n",
      " [90.  90.5]\n",
      " [91.  91.5]\n",
      " [92.  92.5]\n",
      " [93.  93.5]\n",
      " [94.  94.5]\n",
      " [95.  95.5]\n",
      " [96.  96.5]\n",
      " [97.  97.5]\n",
      " [98.  98.5]]\n"
     ]
    }
   ],
   "source": [
    " m=f.reshape(97,2)\n",
    "print(m)"
   ]
  },
  {
   "cell_type": "markdown",
   "id": "02e86953",
   "metadata": {},
   "source": [
    "m[1:72:4]"
   ]
  },
  {
   "cell_type": "code",
   "execution_count": 39,
   "id": "bc38c3e4",
   "metadata": {},
   "outputs": [
    {
     "data": {
      "text/plain": [
       "array([[ 2. ,  2.5],\n",
       "       [ 7. ,  7.5],\n",
       "       [12. , 12.5],\n",
       "       [17. , 17.5],\n",
       "       [22. , 22.5],\n",
       "       [27. , 27.5],\n",
       "       [32. , 32.5],\n",
       "       [37. , 37.5],\n",
       "       [42. , 42.5],\n",
       "       [47. , 47.5],\n",
       "       [52. , 52.5],\n",
       "       [57. , 57.5],\n",
       "       [62. , 62.5],\n",
       "       [67. , 67.5],\n",
       "       [72. , 72.5]])"
      ]
     },
     "execution_count": 39,
     "metadata": {},
     "output_type": "execute_result"
    }
   ],
   "source": [
    "m[0:72:5]"
   ]
  },
  {
   "cell_type": "code",
   "execution_count": 43,
   "id": "3c8234a1",
   "metadata": {},
   "outputs": [
    {
     "data": {
      "text/plain": [
       "array([[52.5],\n",
       "       [53.5],\n",
       "       [54.5],\n",
       "       [55.5],\n",
       "       [56.5],\n",
       "       [57.5],\n",
       "       [58.5],\n",
       "       [59.5],\n",
       "       [60.5],\n",
       "       [61.5],\n",
       "       [62.5],\n",
       "       [63.5],\n",
       "       [64.5],\n",
       "       [65.5],\n",
       "       [66.5],\n",
       "       [67.5],\n",
       "       [68.5],\n",
       "       [69.5],\n",
       "       [70.5],\n",
       "       [71.5],\n",
       "       [72.5],\n",
       "       [73.5],\n",
       "       [74.5],\n",
       "       [75.5],\n",
       "       [76.5],\n",
       "       [77.5],\n",
       "       [78.5],\n",
       "       [79.5],\n",
       "       [80.5],\n",
       "       [81.5],\n",
       "       [82.5],\n",
       "       [83.5],\n",
       "       [84.5],\n",
       "       [85.5],\n",
       "       [86.5],\n",
       "       [87.5],\n",
       "       [88.5],\n",
       "       [89.5],\n",
       "       [90.5],\n",
       "       [91.5],\n",
       "       [92.5],\n",
       "       [93.5],\n",
       "       [94.5],\n",
       "       [95.5],\n",
       "       [96.5],\n",
       "       [97.5],\n",
       "       [98.5]])"
      ]
     },
     "execution_count": 43,
     "metadata": {},
     "output_type": "execute_result"
    }
   ],
   "source": [
    "m[50:,1:]"
   ]
  },
  {
   "cell_type": "code",
   "execution_count": null,
   "id": "34aeeb29",
   "metadata": {},
   "outputs": [],
   "source": []
  }
 ],
 "metadata": {
  "kernelspec": {
   "display_name": "Python 3 (ipykernel)",
   "language": "python",
   "name": "python3"
  },
  "language_info": {
   "codemirror_mode": {
    "name": "ipython",
    "version": 3
   },
   "file_extension": ".py",
   "mimetype": "text/x-python",
   "name": "python",
   "nbconvert_exporter": "python",
   "pygments_lexer": "ipython3",
   "version": "3.11.5"
  }
 },
 "nbformat": 4,
 "nbformat_minor": 5
}
