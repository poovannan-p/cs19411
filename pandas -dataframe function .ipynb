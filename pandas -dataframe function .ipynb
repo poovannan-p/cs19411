{
 "cells": [
  {
   "cell_type": "code",
   "execution_count": 2,
   "id": "7e00dc3a",
   "metadata": {},
   "outputs": [],
   "source": [
    "import pandas as pd"
   ]
  },
  {
   "cell_type": "code",
   "execution_count": 3,
   "id": "54c9000f",
   "metadata": {},
   "outputs": [],
   "source": [
    "import numpy as np"
   ]
  },
  {
   "cell_type": "code",
   "execution_count": 3,
   "id": "d7ecb632",
   "metadata": {},
   "outputs": [
    {
     "name": "stdout",
     "output_type": "stream",
     "text": [
      "          p         q\n",
      "0  1.414214  2.645751\n",
      "1  1.414214  2.645751\n",
      "2  1.414214  2.645751\n"
     ]
    }
   ],
   "source": [
    "#dataframe apply function\n",
    "info=pd.DataFrame([[2,7]]*3,columns=['p','q'])\n",
    "print(info.apply(np.sqrt))"
   ]
  },
  {
   "cell_type": "code",
   "execution_count": 8,
   "id": "00775c4b",
   "metadata": {},
   "outputs": [
    {
     "name": "stdout",
     "output_type": "stream",
     "text": [
      "p     6\n",
      "q    21\n",
      "dtype: int64\n"
     ]
    }
   ],
   "source": [
    "print(info.apply(np.sum,axis=0))"
   ]
  },
  {
   "cell_type": "code",
   "execution_count": 9,
   "id": "f79bc245",
   "metadata": {},
   "outputs": [
    {
     "name": "stdout",
     "output_type": "stream",
     "text": [
      "0    9\n",
      "1    9\n",
      "2    9\n",
      "dtype: int64\n"
     ]
    }
   ],
   "source": [
    "print(info.apply(np.sum,axis=1))"
   ]
  },
  {
   "cell_type": "code",
   "execution_count": 16,
   "id": "ed3690cc",
   "metadata": {},
   "outputs": [
    {
     "name": "stdout",
     "output_type": "stream",
     "text": [
      "     X  Y  z\n",
      "min  1  2  3\n",
      "max  4  5  6\n"
     ]
    }
   ],
   "source": [
    "#minum maximum\n",
    "infa=pd.DataFrame([[1,2,3],[4,5,6]],columns=['X','Y','z'])\n",
    "print(infa.agg(['min','max']))"
   ]
  },
  {
   "cell_type": "code",
   "execution_count": 20,
   "id": "0814122a",
   "metadata": {},
   "outputs": [
    {
     "name": "stdout",
     "output_type": "stream",
     "text": [
      "   emp   id  age\n",
      "0  sai  123   35\n",
      "1  sab  125   46\n",
      "   emp   id  age   sex\n",
      "0  sai  123   35  male\n",
      "1  sab  125   46  male\n"
     ]
    }
   ],
   "source": [
    "#dataframe assing function\n",
    "d2=pd.DataFrame([['sai',123],['sab',125]],columns=['emp','id'])\n",
    "d2['age']=[35,46]\n",
    "d=d2.assign(sex=['male','male'])\n",
    "print(d2)\n",
    "print(d)"
   ]
  },
  {
   "cell_type": "code",
   "execution_count": 26,
   "id": "697ea67e",
   "metadata": {},
   "outputs": [
    {
     "name": "stdout",
     "output_type": "stream",
     "text": [
      "       col3      col4\n",
      "3 -1.477304  1.222625\n",
      "2 -2.143599  1.350679\n",
      "0 -1.023244  0.016213\n",
      "4  0.620605  0.116587\n",
      "1 -0.238764 -0.366621\n",
      "       col3      col4\n",
      "0 -1.023244  0.016213\n",
      "1 -0.238764 -0.366621\n",
      "2 -2.143599  1.350679\n",
      "3 -1.477304  1.222625\n",
      "4  0.620605  0.116587\n",
      "       col3      col4\n",
      "2 -2.143599  1.350679\n",
      "3 -1.477304  1.222625\n",
      "0 -1.023244  0.016213\n",
      "1 -0.238764 -0.366621\n",
      "4  0.620605  0.116587\n"
     ]
    }
   ],
   "source": [
    "#sort\n",
    "kd=pd.DataFrame(np.random.randn(5,2),index=[3,2,0,4,1],columns=['col3','col4'])\n",
    "print(kd)\n",
    "kd2=kd.sort_index()\n",
    "print(kd2)\n",
    "kd3=kd.sort_values(by='col3')\n",
    "print(kd3)"
   ]
  },
  {
   "cell_type": "code",
   "execution_count": 4,
   "id": "1b32e6fb",
   "metadata": {},
   "outputs": [
    {
     "name": "stdout",
     "output_type": "stream",
     "text": [
      "   id  name     sub\n",
      "0   1   poo     tam\n",
      "1   2   sab     eng\n",
      "2   3   sai   mathh\n",
      "3   4  kani     sci\n",
      "4   5   ovi  social\n",
      "   id   name   sub\n",
      "0   1    lok   tam\n",
      "1   2   talk   eng\n",
      "2   3  speak  math\n",
      "3   4   fast   sci\n",
      "4   5   slow   soc\n",
      "   id name_x   sub_x name_y sub_y\n",
      "0   1    poo     tam    lok   tam\n",
      "1   2    sab     eng   talk   eng\n",
      "2   3    sai   mathh  speak  math\n",
      "3   4   kani     sci   fast   sci\n",
      "4   5    ovi  social   slow   soc\n"
     ]
    }
   ],
   "source": [
    "#merge\n",
    "left=pd.DataFrame({'id':[1,2,3,4,5],\n",
    "                   'name':['poo','sab','sai','kani','ovi'],\n",
    "                   'sub':['tam','eng','mathh','sci','social']})\n",
    "right=pd.DataFrame({'id':[1,2,3,4,5,],\n",
    "                    'name':['lok','talk','speak','fast','slow'],\n",
    "                    'sub':['tam','eng','math','sci','soc']})\n",
    "print(left)\n",
    "print(right)\n",
    "print(pd.merge(left,right,on='id'))"
   ]
  },
  {
   "cell_type": "code",
   "execution_count": 11,
   "id": "055d60b8",
   "metadata": {},
   "outputs": [
    {
     "name": "stdout",
     "output_type": "stream",
     "text": [
      "   id  name     sub\n",
      "0   1   poo     tam\n",
      "1   2   sab     eng\n",
      "2   3   sai    math\n",
      "3   4  kani     sci\n",
      "4   5   ovi  social\n",
      "   id   name     sub\n",
      "0   5    lok     tam\n",
      "1   4   talk     eng\n",
      "2   3  speak    math\n",
      "3   2   fast     sci\n",
      "4   1   slow  social\n",
      "   id name_x   sub_x name_y   sub_y\n",
      "0   1    poo     tam   slow  social\n",
      "1   2    sab     eng   fast     sci\n",
      "2   3    sai    math  speak    math\n",
      "3   4   kani     sci   talk     eng\n",
      "4   5    ovi  social    lok     tam\n",
      "   id_x name_x     sub  id_y name_y\n",
      "0     1    poo     tam     5    lok\n",
      "1     2    sab     eng     4   talk\n",
      "2     3    sai    math     3  speak\n",
      "3     4   kani     sci     2   fast\n",
      "4     5    ovi  social     1   slow\n"
     ]
    }
   ],
   "source": [
    "#merge\n",
    "left=pd.DataFrame({'id':[1,2,3,4,5],\n",
    "                   'name':['poo','sab','sai','kani','ovi'],\n",
    "                   'sub':['tam','eng','math','sci','social']})\n",
    "right=pd.DataFrame({'id':[5,4,3,2,1],\n",
    "                    'name':['lok','talk','speak','fast','slow'],\n",
    "                    'sub':['tam','eng','math','sci','social']})\n",
    "print(left)\n",
    "print(right)\n",
    "print(pd.merge(left,right,on='id'))\n",
    "print(pd.merge(left,right,on='sub'))"
   ]
  },
  {
   "cell_type": "code",
   "execution_count": null,
   "id": "c2ac1c91",
   "metadata": {},
   "outputs": [],
   "source": []
  }
 ],
 "metadata": {
  "kernelspec": {
   "display_name": "Python 3 (ipykernel)",
   "language": "python",
   "name": "python3"
  },
  "language_info": {
   "codemirror_mode": {
    "name": "ipython",
    "version": 3
   },
   "file_extension": ".py",
   "mimetype": "text/x-python",
   "name": "python",
   "nbconvert_exporter": "python",
   "pygments_lexer": "ipython3",
   "version": "3.11.5"
  }
 },
 "nbformat": 4,
 "nbformat_minor": 5
}
