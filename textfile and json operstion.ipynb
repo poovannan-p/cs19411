{
 "cells": [
  {
   "cell_type": "code",
   "execution_count": 5,
   "id": "92698d96",
   "metadata": {},
   "outputs": [],
   "source": [
    "#open a textfile write mode\n",
    "f=open(\"./textfile.txt\",'w')\n",
    "f.write(\"first line \\n\")\n",
    "f.write(\"Second line\\n\")\n",
    "f.write(\"third line\\n\")\n",
    "f.close()"
   ]
  },
  {
   "cell_type": "code",
   "execution_count": 6,
   "id": "9620e965",
   "metadata": {},
   "outputs": [
    {
     "name": "stdout",
     "output_type": "stream",
     "text": [
      "first line \n",
      "\n",
      "Second line\n",
      "\n",
      "third line\n",
      "\n"
     ]
    }
   ],
   "source": [
    "#open a textfile in readmode \n",
    "k=open(\"./textfile.txt\",'r')\n",
    "print(k.readline())\n",
    "print(k.readline())\n",
    "print(k.readline())\n",
    "k.close()"
   ]
  },
  {
   "cell_type": "code",
   "execution_count": 8,
   "id": "5ac699bb",
   "metadata": {},
   "outputs": [],
   "source": [
    "#open a textfile in 'append' mode\n",
    "m=open('./textfile.txt','a')\n",
    "m.write(\"fourth line\\n\")\n",
    "m.write(\"fifth line\\n\")\n",
    "m.close()"
   ]
  },
  {
   "cell_type": "code",
   "execution_count": 9,
   "id": "ddc0723a",
   "metadata": {},
   "outputs": [
    {
     "name": "stdout",
     "output_type": "stream",
     "text": [
      "first line \n",
      "Second line\n",
      "third line\n",
      "fourth line\n",
      "fifth line\n",
      "\n"
     ]
    }
   ],
   "source": [
    "# read function \n",
    "p=open(\"./textfile.txt\",'r')\n",
    "print(p.read())\n",
    "p.close()\n"
   ]
  },
  {
   "cell_type": "code",
   "execution_count": 12,
   "id": "3b9ca2d5",
   "metadata": {},
   "outputs": [
    {
     "name": "stdout",
     "output_type": "stream",
     "text": [
      "['first line \\n', 'Second line\\n', 'third line\\n', 'fourth line\\n', 'fifth line\\n']\n"
     ]
    }
   ],
   "source": [
    "with open(\"./textfile.txt\",'r') as file:\n",
    "    lines=file.readlines()\n",
    "    print(lines)"
   ]
  },
  {
   "cell_type": "code",
   "execution_count": 13,
   "id": "153eb2ce",
   "metadata": {},
   "outputs": [],
   "source": []
  },
  {
   "cell_type": "code",
   "execution_count": 20,
   "id": "8ae1dfd7",
   "metadata": {},
   "outputs": [
    {
     "name": "stdout",
     "output_type": "stream",
     "text": [
      "30\n"
     ]
    }
   ],
   "source": [
    "import json\n",
    "#some json \n",
    "X='{\"name\":\"john\",\"age\":30,\"city\":\"new york\"}'\n",
    "#parse x:\n",
    "y=json.loads(X)\n",
    "print(y[\"age\"])\n"
   ]
  },
  {
   "cell_type": "code",
   "execution_count": 21,
   "id": "2f5b3d87",
   "metadata": {},
   "outputs": [
    {
     "data": {
      "text/plain": [
       "{'name': 'john', 'age': 30, 'city': 'newyork'}"
      ]
     },
     "execution_count": 21,
     "metadata": {},
     "output_type": "execute_result"
    }
   ],
   "source": [
    "#a python objezt(dict)\n",
    "x\n",
    "{\n",
    "    \"name\":\"john\",\n",
    "    \"age\":30,\n",
    "    \"city\":\"newyork\"\n",
    "}"
   ]
  },
  {
   "cell_type": "code",
   "execution_count": 22,
   "id": "e94061d3",
   "metadata": {},
   "outputs": [],
   "source": [
    "#convert json\n",
    "y=json.dumps(X)\n"
   ]
  },
  {
   "cell_type": "code",
   "execution_count": 23,
   "id": "8dcf4234",
   "metadata": {},
   "outputs": [
    {
     "name": "stdout",
     "output_type": "stream",
     "text": [
      "\"{\\\"name\\\":\\\"john\\\",\\\"age\\\":30,\\\"city\\\":\\\"new york\\\"}\"\n"
     ]
    }
   ],
   "source": [
    "print(y)"
   ]
  },
  {
   "cell_type": "code",
   "execution_count": null,
   "id": "4ba5220c",
   "metadata": {},
   "outputs": [],
   "source": []
  }
 ],
 "metadata": {
  "kernelspec": {
   "display_name": "Python 3 (ipykernel)",
   "language": "python",
   "name": "python3"
  },
  "language_info": {
   "codemirror_mode": {
    "name": "ipython",
    "version": 3
   },
   "file_extension": ".py",
   "mimetype": "text/x-python",
   "name": "python",
   "nbconvert_exporter": "python",
   "pygments_lexer": "ipython3",
   "version": "3.11.5"
  }
 },
 "nbformat": 4,
 "nbformat_minor": 5
}
