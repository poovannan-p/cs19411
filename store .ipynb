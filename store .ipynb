{
 "cells": [
  {
   "cell_type": "code",
   "execution_count": 12,
   "id": "dbdc3c70",
   "metadata": {},
   "outputs": [
    {
     "name": "stdout",
     "output_type": "stream",
     "text": [
      "         a   b   c\n",
      "one     11  21  31\n",
      "two      1  22  32\n",
      "three  315  32  33\n"
     ]
    }
   ],
   "source": [
    "import pandas as pd\n",
    "df=pd.DataFrame([[11,21,31],[1,22,32],[315,32,33]],\n",
    "                index=['one','two','three'],columns=['a','b','c'])\n",
    "print(df)"
   ]
  },
  {
   "cell_type": "code",
   "execution_count": 13,
   "id": "fdbe6ada",
   "metadata": {},
   "outputs": [],
   "source": [
    "# taking input from dataframe amd storing in excel file \n",
    "df.to_excel('.\\pandas_to_excel.xlsx',sheet_name='new_sheet_name')"
   ]
  },
  {
   "cell_type": "code",
   "execution_count": 10,
   "id": "6b6dca8f",
   "metadata": {},
   "outputs": [],
   "source": [
    "#SECOND DATAFRAME INPUT TO ANOTHER EXCEL FILE\n",
    "d=pd.DataFrame([[110,210,310],[12,220,320],[310,320,330]],\n",
    "                  index=['four','five','six'],columns=['a','b','c'])\n",
    "d.to_excel('.\\pandas_to_excel1.xlsx',sheet_name='new_shee_name')"
   ]
  },
  {
   "cell_type": "code",
   "execution_count": 20,
   "id": "1529b946",
   "metadata": {},
   "outputs": [],
   "source": [
    "#merging two wxcel files into third file \n",
    "x=pd.read_excel('.\\pandas_to_excel.xlsx')\n",
    "y=pd.read_excel('.\\pandas_to_excel1.xlsx')\n",
    "#z=x.append(y)\n",
    "z=pd.concat([x,y])\n",
    "z.to_excel('.\\pandas_to_excel3.xlsx')"
   ]
  },
  {
   "cell_type": "code",
   "execution_count": 21,
   "id": "bc3103d1",
   "metadata": {},
   "outputs": [
    {
     "name": "stdout",
     "output_type": "stream",
     "text": [
      "  Unnamed: 0    a    b    c\n",
      "1        two    1   22   32\n",
      "0        one   11   21   31\n",
      "1       five   12  220  320\n",
      "0       four  110  210  310\n",
      "2        six  310  320  330\n",
      "2      three  315   32   33\n"
     ]
    }
   ],
   "source": [
    "#sorting the column values \n",
    "df=z.sort_values(['a'])\n",
    "print(df)\n",
    "df.to_excel('.\\pandas_to_excel4.xlsx')"
   ]
  },
  {
   "cell_type": "code",
   "execution_count": 22,
   "id": "f39e709a",
   "metadata": {},
   "outputs": [
    {
     "name": "stdout",
     "output_type": "stream",
     "text": [
      "    First Name  Gender  Start Date Last Login Time  Salary  Bonus %  \\\n",
      "0      Douglas    Male    8/6/1993        12:42 PM   97308    6.945   \n",
      "1       Thomas    Male   3/31/1996         6:53 AM   61933    4.170   \n",
      "2        Maria  Female   4/23/1993        11:17 AM  130590   11.858   \n",
      "3        Jerry    Male    3/4/2005         1:00 PM  138705    9.340   \n",
      "4        Larry    Male   1/24/1998         4:47 PM  101004    1.389   \n",
      "..         ...     ...         ...             ...     ...      ...   \n",
      "995      Henry     NaN  11/23/2014         6:09 AM  132483   16.655   \n",
      "996    Phillip    Male   1/31/1984         6:30 AM   42392   19.675   \n",
      "997    Russell    Male   5/20/2013        12:39 PM   96914    1.421   \n",
      "998      Larry    Male   4/20/2013         4:45 PM   60500   11.985   \n",
      "999     Albert    Male   5/15/2012         6:24 PM  129949   10.169   \n",
      "\n",
      "    Senior Management                  Team  \n",
      "0                True             Marketing  \n",
      "1                True                   NaN  \n",
      "2               False               Finance  \n",
      "3                True               Finance  \n",
      "4                True       Client Services  \n",
      "..                ...                   ...  \n",
      "995             False          Distribution  \n",
      "996             False               Finance  \n",
      "997             False               Product  \n",
      "998             False  Business Development  \n",
      "999              True                 Sales  \n",
      "\n",
      "[1000 rows x 8 columns]\n",
      "['First Name', 'Gender', 'Start Date', 'Last Login Time', 'Salary', 'Bonus %', 'Senior Management', 'Team']\n",
      "1000\n"
     ]
    }
   ],
   "source": [
    "df=pd.read_csv(\".\\employees.csv\")\n",
    "print(df)\n",
    "print(list(df))\n",
    "print(format(len(df)))"
   ]
  },
  {
   "cell_type": "code",
   "execution_count": null,
   "id": "28835b6e",
   "metadata": {},
   "outputs": [],
   "source": []
  }
 ],
 "metadata": {
  "kernelspec": {
   "display_name": "Python 3 (ipykernel)",
   "language": "python",
   "name": "python3"
  },
  "language_info": {
   "codemirror_mode": {
    "name": "ipython",
    "version": 3
   },
   "file_extension": ".py",
   "mimetype": "text/x-python",
   "name": "python",
   "nbconvert_exporter": "python",
   "pygments_lexer": "ipython3",
   "version": "3.11.5"
  }
 },
 "nbformat": 4,
 "nbformat_minor": 5
}
