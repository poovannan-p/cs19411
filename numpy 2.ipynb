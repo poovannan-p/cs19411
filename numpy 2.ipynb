{
 "cells": [
  {
   "cell_type": "code",
   "execution_count": 1,
   "id": "af870966",
   "metadata": {},
   "outputs": [
    {
     "name": "stdout",
     "output_type": "stream",
     "text": [
      "hello world\n"
     ]
    }
   ],
   "source": [
    "print('hello world')"
   ]
  },
  {
   "cell_type": "code",
   "execution_count": 3,
   "id": "ceff07b1",
   "metadata": {},
   "outputs": [],
   "source": [
    "import numpy as np"
   ]
  },
  {
   "cell_type": "code",
   "execution_count": 4,
   "id": "da2197dc",
   "metadata": {},
   "outputs": [],
   "source": [
    "a=np.array((5,5))"
   ]
  },
  {
   "cell_type": "code",
   "execution_count": 10,
   "id": "88e5c3ea",
   "metadata": {},
   "outputs": [
    {
     "name": "stdout",
     "output_type": "stream",
     "text": [
      "[[4 4 4 4 4]\n",
      " [4 4 4 4 4]\n",
      " [4 4 4 4 4]\n",
      " [4 4 4 4 4]\n",
      " [4 4 4 4 4]]\n"
     ]
    }
   ],
   "source": [
    "a=np.full((5,5),4)\n",
    "print(a)"
   ]
  },
  {
   "cell_type": "code",
   "execution_count": 11,
   "id": "3a9321b0",
   "metadata": {},
   "outputs": [
    {
     "name": "stdout",
     "output_type": "stream",
     "text": [
      "orginal array:\n",
      " [[4 4 4 4 4]\n",
      " [4 4 4 4 4]\n",
      " [4 4 4 4 4]\n",
      " [4 4 4 4 4]\n",
      " [4 4 4 4 4]]\n"
     ]
    }
   ],
   "source": [
    "print('orginal array:\\n',a)"
   ]
  },
  {
   "cell_type": "code",
   "execution_count": 13,
   "id": "f66c2bd4",
   "metadata": {},
   "outputs": [
    {
     "name": "stdout",
     "output_type": "stream",
     "text": [
      "[[4 4 4]\n",
      " [4 4 4]]\n"
     ]
    }
   ],
   "source": [
    "#slicing\n",
    "temp=a[:2,:3]\n",
    "print(temp)"
   ]
  },
  {
   "cell_type": "code",
   "execution_count": 15,
   "id": "c0d9385e",
   "metadata": {},
   "outputs": [
    {
     "name": "stdout",
     "output_type": "stream",
     "text": [
      "\n",
      "Elements at indices (0,3),(1,2),(2,1),(3,0):\n",
      " [[4 4 4 4 4]\n",
      " [4 4 4 4 4]\n",
      " [4 4 4 4 4]\n",
      " [4 4 4 4 4]\n",
      " [4 4 4 4 4]]\n"
     ]
    }
   ],
   "source": [
    "#integer array indexing \n",
    "k=a[[0,1,2,3],[3,2,1,0]]\n",
    "print(\"\\nElements at indices (0,3),(1,2),(2,1),(3,0):\\n\",a)"
   ]
  },
  {
   "cell_type": "code",
   "execution_count": 18,
   "id": "b09e698c",
   "metadata": {},
   "outputs": [
    {
     "name": "stdout",
     "output_type": "stream",
     "text": [
      "[4 4 4 4 4 4 4 4 4 4 4 4 4 4 4 4 4 4 4 4 4 4 4 4 4]\n"
     ]
    }
   ],
   "source": [
    "#boolean array indesing \n",
    "cond=a>2\n",
    "k=a[cond]\n",
    "print(k)"
   ]
  },
  {
   "cell_type": "code",
   "execution_count": 23,
   "id": "5a5f3e2e",
   "metadata": {},
   "outputs": [
    {
     "name": "stdout",
     "output_type": "stream",
     "text": [
      "\n",
      "orginal array: [1 2 3 4 5 6 7]\n",
      "\n",
      "returns every other elements in the array:arr[::2]: [1 3 5 7]\n"
     ]
    }
   ],
   "source": [
    "#return every other element from the entire array:\n",
    "arr=np.array([1,2,3,4,5,6,7])\n",
    "print(\"\\norginal array:\",arr)\n",
    "print(\"\\nreturns every other elements in the array:arr[::2]:\",arr[::2])"
   ]
  },
  {
   "cell_type": "code",
   "execution_count": 25,
   "id": "b49e4b29",
   "metadata": {},
   "outputs": [
    {
     "name": "stdout",
     "output_type": "stream",
     "text": [
      "[4 5 6 7 8 9]\n"
     ]
    }
   ],
   "source": [
    "#joining 2 arrays \n",
    "arr1=np.array([4,5,6])\n",
    "arr2=np.array([7,8,9])\n",
    "m=np.concatenate((arr1,arr2))\n",
    "print(m)"
   ]
  },
  {
   "cell_type": "code",
   "execution_count": 26,
   "id": "7ab4e4c6",
   "metadata": {},
   "outputs": [
    {
     "name": "stdout",
     "output_type": "stream",
     "text": [
      "[4 5 6 7 8 9]\n"
     ]
    }
   ],
   "source": [
    "#horizontal joining\n",
    "n=np.hstack((arr1,arr2))\n",
    "print(n)"
   ]
  },
  {
   "cell_type": "code",
   "execution_count": 27,
   "id": "3c44e9a7",
   "metadata": {},
   "outputs": [
    {
     "name": "stdout",
     "output_type": "stream",
     "text": [
      "[[4 5 6]\n",
      " [7 8 9]]\n"
     ]
    }
   ],
   "source": [
    "k=np.vstack((arr1,arr2))\n",
    "print(k)"
   ]
  },
  {
   "cell_type": "code",
   "execution_count": 30,
   "id": "aa7956b7",
   "metadata": {},
   "outputs": [
    {
     "name": "stdout",
     "output_type": "stream",
     "text": [
      "[[[4 7]\n",
      "  [5 8]\n",
      "  [6 9]]]\n"
     ]
    }
   ],
   "source": [
    "#depth join \n",
    "h=np.dstack((arr1,arr2))\n",
    "print(h)"
   ]
  },
  {
   "cell_type": "code",
   "execution_count": 34,
   "id": "23087ba9",
   "metadata": {},
   "outputs": [
    {
     "name": "stdout",
     "output_type": "stream",
     "text": [
      "[[[ 1 21]\n",
      "  [ 2 22]\n",
      "  [ 3 23]\n",
      "  [ 4 24]\n",
      "  [ 5 25]\n",
      "  [ 6 26]\n",
      "  [ 7 27]\n",
      "  [ 8 28]\n",
      "  [ 9 29]\n",
      "  [10 30]\n",
      "  [11 31]\n",
      "  [12 32]\n",
      "  [13 33]\n",
      "  [14 34]\n",
      "  [15 34]\n",
      "  [16 36]\n",
      "  [17 37]\n",
      "  [18 38]\n",
      "  [19 39]\n",
      "  [20 40]]]\n"
     ]
    }
   ],
   "source": [
    "#depth join\n",
    "p=np.array([1,2,3,4,5,6,7,8,9,10,11,12,13,14,15,16,17,18,19,20])\n",
    "o=np.array([21,22,23,24,25,26,27,28,29,30,31,32,33,34,34,36,37,38,39,40])\n",
    "j=np.dstack((p,o))\n",
    "print(j)"
   ]
  },
  {
   "cell_type": "code",
   "execution_count": 39,
   "id": "9c0f257e",
   "metadata": {},
   "outputs": [
    {
     "name": "stdout",
     "output_type": "stream",
     "text": [
      "[array([1, 2, 3]), array([4, 5, 6]), array([7, 8, 9])]\n",
      "[1 2 3]\n",
      "[4 5 6]\n"
     ]
    }
   ],
   "source": [
    "#splitting array \n",
    "k=np.array([1,2,3,4,5,6,7,8,9])\n",
    "l=np.array_split(k,3)\n",
    "print(l)\n",
    "print(l[0])\n",
    "print(l[1])"
   ]
  },
  {
   "cell_type": "code",
   "execution_count": null,
   "id": "fca8a622",
   "metadata": {},
   "outputs": [],
   "source": []
  }
 ],
 "metadata": {
  "kernelspec": {
   "display_name": "Python 3 (ipykernel)",
   "language": "python",
   "name": "python3"
  },
  "language_info": {
   "codemirror_mode": {
    "name": "ipython",
    "version": 3
   },
   "file_extension": ".py",
   "mimetype": "text/x-python",
   "name": "python",
   "nbconvert_exporter": "python",
   "pygments_lexer": "ipython3",
   "version": "3.11.5"
  }
 },
 "nbformat": 4,
 "nbformat_minor": 5
}
