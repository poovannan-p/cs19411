{
 "cells": [
  {
   "cell_type": "code",
   "execution_count": 1,
   "id": "7990a120",
   "metadata": {},
   "outputs": [],
   "source": [
    "import numpy as np"
   ]
  },
  {
   "cell_type": "code",
   "execution_count": 5,
   "id": "ccf2da76",
   "metadata": {},
   "outputs": [],
   "source": [
    "a=np.array([10,20,30,40,50])\n",
    "b=np.array([11,22,33,44,55])"
   ]
  },
  {
   "cell_type": "code",
   "execution_count": 6,
   "id": "4b9e181a",
   "metadata": {},
   "outputs": [
    {
     "name": "stdout",
     "output_type": "stream",
     "text": [
      "[ 21  42  63  84 105]\n"
     ]
    }
   ],
   "source": [
    "#vector addition \n",
    "print(a+b)"
   ]
  },
  {
   "cell_type": "code",
   "execution_count": 7,
   "id": "7435ab4a",
   "metadata": {},
   "outputs": [
    {
     "name": "stdout",
     "output_type": "stream",
     "text": [
      "[-1 -2 -3 -4 -5]\n"
     ]
    }
   ],
   "source": [
    "#vector subtraction \n",
    "print(a-b)"
   ]
  },
  {
   "cell_type": "code",
   "execution_count": 8,
   "id": "6d01b581",
   "metadata": {},
   "outputs": [
    {
     "name": "stdout",
     "output_type": "stream",
     "text": [
      "[ 110  440  990 1760 2750]\n"
     ]
    }
   ],
   "source": [
    "#vector multiplication\n",
    "print(a*b)"
   ]
  },
  {
   "cell_type": "code",
   "execution_count": 10,
   "id": "5a836b00",
   "metadata": {},
   "outputs": [
    {
     "name": "stdout",
     "output_type": "stream",
     "text": [
      "6050\n"
     ]
    }
   ],
   "source": [
    "#vector dot product\n",
    "print(a.dot(b))"
   ]
  },
  {
   "cell_type": "code",
   "execution_count": 11,
   "id": "7d3dbe04",
   "metadata": {},
   "outputs": [
    {
     "name": "stdout",
     "output_type": "stream",
     "text": [
      "[0.90909091 0.90909091 0.90909091 0.90909091 0.90909091]\n"
     ]
    }
   ],
   "source": [
    "#vector divison\n",
    "print(a/b)"
   ]
  },
  {
   "cell_type": "code",
   "execution_count": 12,
   "id": "6ad02727",
   "metadata": {},
   "outputs": [
    {
     "name": "stdout",
     "output_type": "stream",
     "text": [
      "[ 40  80 120 160 200]\n"
     ]
    }
   ],
   "source": [
    "#scalar multiplication \n",
    "scr=4\n",
    "print(a*scr)"
   ]
  },
  {
   "cell_type": "code",
   "execution_count": 15,
   "id": "2b6fbf50",
   "metadata": {},
   "outputs": [
    {
     "name": "stdout",
     "output_type": "stream",
     "text": [
      "[ 8  1 50]\n"
     ]
    }
   ],
   "source": [
    "#vectorize\n",
    "def my_func(x,y):\n",
    "    if x>y:\n",
    "        return x-y\n",
    "    else:\n",
    "        return x+y\n",
    "arr1=[10,4,20]\n",
    "arr2=[2,3,30]\n",
    "vec_func=np.vectorize(my_func)\n",
    "print(vec_func(arr1,arr2))\n"
   ]
  },
  {
   "cell_type": "code",
   "execution_count": null,
   "id": "95be4d90",
   "metadata": {},
   "outputs": [],
   "source": []
  }
 ],
 "metadata": {
  "kernelspec": {
   "display_name": "Python 3 (ipykernel)",
   "language": "python",
   "name": "python3"
  },
  "language_info": {
   "codemirror_mode": {
    "name": "ipython",
    "version": 3
   },
   "file_extension": ".py",
   "mimetype": "text/x-python",
   "name": "python",
   "nbconvert_exporter": "python",
   "pygments_lexer": "ipython3",
   "version": "3.11.5"
  }
 },
 "nbformat": 4,
 "nbformat_minor": 5
}
