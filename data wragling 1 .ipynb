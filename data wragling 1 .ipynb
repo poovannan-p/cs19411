{
 "cells": [
  {
   "cell_type": "code",
   "execution_count": 3,
   "id": "2f76d3a8",
   "metadata": {},
   "outputs": [],
   "source": [
    "import pandas as pd"
   ]
  },
  {
   "cell_type": "code",
   "execution_count": 5,
   "id": "c8ffdb55",
   "metadata": {},
   "outputs": [
    {
     "name": "stdout",
     "output_type": "stream",
     "text": [
      "orginal dataframe1:\n",
      "     name  age\n",
      "0  sally   50\n",
      "1  marry   40\n",
      "2   john   30\n",
      "orginal dataframe2:\n",
      "    qualified\n",
      "0       True\n",
      "1      False\n",
      "2       True\n",
      "joined dataframe:\n",
      "     name  age  qualified\n",
      "0  sally   50       True\n",
      "1  marry   40      False\n",
      "2   john   30       True\n"
     ]
    }
   ],
   "source": [
    "data1={\n",
    "    \"name\":[\"sally\",\"marry\",\"john\"],\n",
    "    \"age\":[50,40,30]\n",
    "}\n",
    "data2={\n",
    "    \"qualified\":[True,False,True]\n",
    "}\n",
    "df1=pd.DataFrame(data1)\n",
    "print(\"orginal dataframe1:\\n\",df1)\n",
    "df2=pd.DataFrame(data2)\n",
    "print(\"orginal dataframe2:\\n\",df2)\n",
    "newdf=df1.join(df2)\n",
    "print(\"joined dataframe:\\n\",newdf)"
   ]
  },
  {
   "cell_type": "code",
   "execution_count": 16,
   "id": "e9623ce0",
   "metadata": {},
   "outputs": [
    {
     "name": "stdout",
     "output_type": "stream",
     "text": [
      "orginal dataframe1:\n",
      "    0  1\n",
      "0  1  2\n",
      "1  3  4\n",
      "orginal dataframe2:\n",
      "    0  1\n",
      "0  5  6\n",
      "1  7  8\n",
      "combine dataframe using combine function with condition:    0  1\n",
      "0  5  6\n",
      "1  7  8\n"
     ]
    }
   ],
   "source": [
    "df1=pd.DataFrame([[1,2],[3,4]])\n",
    "df2=pd.DataFrame([[5,6],[7,8]])\n",
    "def myfunc(a,b):\n",
    "    if(a.sum()>b.sum()):\n",
    "        return a\n",
    "    else:\n",
    "        return b\n",
    "print(\"orginal dataframe1:\\n\",df1)\n",
    "print(\"orginal dataframe2:\\n\",df2)\n",
    "print(\"combine dataframe using combine function with condition:\",df1.combine(df2,myfunc))"
   ]
  },
  {
   "cell_type": "code",
   "execution_count": 9,
   "id": "012bc5c4",
   "metadata": {},
   "outputs": [
    {
     "name": "stdout",
     "output_type": "stream",
     "text": [
      "orginal dataframe1:\n",
      "     name  age\n",
      "0  sally   50\n",
      "1  marry   40\n",
      "2   john   30\n",
      "orginal dataframe2:\n",
      "     name  age\n",
      "0  sally   60\n",
      "1  marry   80\n",
      "2   john   40\n",
      "merge operation:\n",
      "     name  age\n",
      "0  sally   60\n",
      "1  marry   80\n",
      "2   john   40\n"
     ]
    }
   ],
   "source": [
    "data1={\n",
    "    \"name\":[\"sally\",\"marry\",\"john\"],\n",
    "    \"age\":[50,40,30]\n",
    "}\n",
    "data2={\n",
    "    \"name\":[\"sally\",\"marry\",\"john\"],\n",
    "    \"age\":[60,80,40]\n",
    "}\n",
    "df1=pd.DataFrame(data1)\n",
    "print(\"orginal dataframe1:\\n\",df1)\n",
    "df2=pd.DataFrame(data2)\n",
    "print(\"orginal dataframe2:\\n\",df2)\n",
    "newdf=df1.merge(df2,how=\"right\")\n",
    "print(\"merge operation:\\n\",newdf)\n"
   ]
  },
  {
   "cell_type": "code",
   "execution_count": 18,
   "id": "d034ee19",
   "metadata": {},
   "outputs": [
    {
     "name": "stdout",
     "output_type": "stream",
     "text": [
      "  team  points  assists  rebounds\n",
      "0    A      88       12        22\n",
      "1    B      91       17        28\n",
      "2    c      99       24        30\n",
      "3    d      94       28        31\n",
      "   team  variable  value\n",
      "0     A    points     88\n",
      "1     B    points     91\n",
      "2     c    points     99\n",
      "3     d    points     94\n",
      "4     A   assists     12\n",
      "5     B   assists     17\n",
      "6     c   assists     24\n",
      "7     d   assists     28\n",
      "8     A  rebounds     22\n",
      "9     B  rebounds     28\n",
      "10    c  rebounds     30\n",
      "11    d  rebounds     31\n"
     ]
    }
   ],
   "source": [
    "#create data frame \n",
    "df=pd.DataFrame({\"team\":['A','B','c','d'],\n",
    "                'points':[88,91,99,94],\n",
    "                'assists':[12,17,24,28],\n",
    "                'rebounds':[22,28,30,31]})\n",
    "#view data frame\n",
    "print(df)\n",
    "#reshape dataframe to wide format to long format\n",
    "df5=pd.melt(df,id_vars='team',value_vars=['points','assists','rebounds'])\n",
    "#view updated dataframe\n",
    "print(df5)"
   ]
  },
  {
   "cell_type": "code",
   "execution_count": null,
   "id": "8159f64f",
   "metadata": {},
   "outputs": [],
   "source": []
  }
 ],
 "metadata": {
  "kernelspec": {
   "display_name": "Python 3 (ipykernel)",
   "language": "python",
   "name": "python3"
  },
  "language_info": {
   "codemirror_mode": {
    "name": "ipython",
    "version": 3
   },
   "file_extension": ".py",
   "mimetype": "text/x-python",
   "name": "python",
   "nbconvert_exporter": "python",
   "pygments_lexer": "ipython3",
   "version": "3.11.5"
  }
 },
 "nbformat": 4,
 "nbformat_minor": 5
}
