{
 "cells": [
  {
   "cell_type": "code",
   "execution_count": 2,
   "id": "c698e29b",
   "metadata": {},
   "outputs": [],
   "source": [
    "import pandas as pd "
   ]
  },
  {
   "cell_type": "code",
   "execution_count": 6,
   "id": "cf355ea8",
   "metadata": {},
   "outputs": [
    {
     "name": "stdout",
     "output_type": "stream",
     "text": [
      "Empty DataFrame\n",
      "Columns: []\n",
      "Index: []\n"
     ]
    }
   ],
   "source": [
    "df=pd.DataFrame()\n",
    "print(df)"
   ]
  },
  {
   "cell_type": "code",
   "execution_count": 11,
   "id": "b0eb28be",
   "metadata": {},
   "outputs": [
    {
     "name": "stdout",
     "output_type": "stream",
     "text": [
      "     STUDENT  MARK\n",
      "0  poovannan    99\n",
      "1   sabarish    23\n",
      "2    sairisi    45\n",
      "3      gokul    67\n"
     ]
    }
   ],
   "source": [
    "#dataframe apply function                                                                                \n",
    "student=pd.Series(['poovannan','sabarish','sairisi','gokul'])\n",
    "mark=pd.Series([99,23,45,67])\n",
    "frame={'STUDENT':student,'MARK':mark}\n",
    "result=pd.DataFrame(frame)\n",
    "print(result)\n",
    "\n"
   ]
  },
  {
   "cell_type": "code",
   "execution_count": 20,
   "id": "ca0d4318",
   "metadata": {},
   "outputs": [
    {
     "name": "stdout",
     "output_type": "stream",
     "text": [
      "     STUDENT  MARK  age\n",
      "0  poovannan    99   19\n",
      "1   sabarish    23   20\n",
      "2    sairisi    45   21\n",
      "3      gokul    67   23\n"
     ]
    }
   ],
   "source": [
    "#adding new column\n",
    "result['age']=pd.Series([19,20,21,23])\n",
    "print(result)"
   ]
  },
  {
   "cell_type": "code",
   "execution_count": 21,
   "id": "48423ee4",
   "metadata": {},
   "outputs": [
    {
     "name": "stdout",
     "output_type": "stream",
     "text": [
      "STUDENT    sairisi\n",
      "MARK            45\n",
      "age             21\n",
      "Name: 2, dtype: object\n"
     ]
    }
   ],
   "source": [
    "#printdesired location or row \n",
    "print(result.loc[2])"
   ]
  },
  {
   "cell_type": "code",
   "execution_count": 24,
   "id": "48e000f9",
   "metadata": {},
   "outputs": [
    {
     "name": "stdout",
     "output_type": "stream",
     "text": [
      "    STUDENT  MARK  age\n",
      "1  sabarish    23   20\n",
      "2   sairisi    45   21\n"
     ]
    }
   ],
   "source": [
    "#slicing rows\n",
    "print(result[1:3])"
   ]
  },
  {
   "cell_type": "code",
   "execution_count": 40,
   "id": "d8042607",
   "metadata": {},
   "outputs": [
    {
     "ename": "AttributeError",
     "evalue": "module 'pandas' has no attribute 'append'",
     "output_type": "error",
     "traceback": [
      "\u001b[1;31m---------------------------------------------------------------------------\u001b[0m",
      "\u001b[1;31mAttributeError\u001b[0m                            Traceback (most recent call last)",
      "Cell \u001b[1;32mIn[40], line 11\u001b[0m\n\u001b[0;32m      8\u001b[0m d2 \u001b[38;5;241m=\u001b[39m pd\u001b[38;5;241m.\u001b[39mDataFrame([[\u001b[38;5;124m'\u001b[39m\u001b[38;5;124mpraveen\u001b[39m\u001b[38;5;124m'\u001b[39m, \u001b[38;5;241m90\u001b[39m, \u001b[38;5;241m45\u001b[39m]], columns\u001b[38;5;241m=\u001b[39m[\u001b[38;5;124m'\u001b[39m\u001b[38;5;124mSTUDENT\u001b[39m\u001b[38;5;124m'\u001b[39m, \u001b[38;5;124m'\u001b[39m\u001b[38;5;124mMARK\u001b[39m\u001b[38;5;124m'\u001b[39m, \u001b[38;5;124m'\u001b[39m\u001b[38;5;124mage\u001b[39m\u001b[38;5;124m'\u001b[39m])\n\u001b[0;32m     10\u001b[0m \u001b[38;5;66;03m# use concat to add the new row\u001b[39;00m\n\u001b[1;32m---> 11\u001b[0m result \u001b[38;5;241m=\u001b[39m pd\u001b[38;5;241m.\u001b[39mappend([result, d2], ignore_index\u001b[38;5;241m=\u001b[39m\u001b[38;5;28;01mTrue\u001b[39;00m)\n\u001b[0;32m     13\u001b[0m \u001b[38;5;28mprint\u001b[39m(result)\n",
      "\u001b[1;31mAttributeError\u001b[0m: module 'pandas' has no attribute 'append'"
     ]
    }
   ],
   "source": [
    "#adding new row\n",
    "import pandas as pd\n",
    "\n",
    "# assuming 'result' is your original DataFrame\n",
    "result = pd.DataFrame([['John', 80, 30], ['Anna', 90, 25]], columns=['STUDENT', 'MARK', 'age'])\n",
    "\n",
    "# new row to be added\n",
    "d2 = pd.DataFrame([['praveen', 90, 45]], columns=['STUDENT', 'MARK', 'age'])\n",
    "\n",
    "# use concat to add the new row\n",
    "result = pd.append([result, d2], ignore_index=True)\n",
    "\n",
    "print(result)"
   ]
  },
  {
   "cell_type": "code",
   "execution_count": 36,
   "id": "d059ee3a",
   "metadata": {},
   "outputs": [
    {
     "name": "stdout",
     "output_type": "stream",
     "text": [
      "     STUDENT  MARK  age\n",
      "0  poovannan    99   19\n",
      "1   sabarish    23   20\n",
      "2    sairisi    45   21\n",
      "3      gokul    67   23\n"
     ]
    }
   ],
   "source": [
    "print(result)"
   ]
  },
  {
   "cell_type": "code",
   "execution_count": 33,
   "id": "54571d11",
   "metadata": {},
   "outputs": [
    {
     "name": "stdout",
     "output_type": "stream",
     "text": [
      "     STUDENT  MARK  age\n",
      "0  poovannan    99   19\n",
      "2    sairisi    45   21\n",
      "3      gokul    67   23\n"
     ]
    }
   ],
   "source": [
    "#deleting row\n",
    "print(result.drop(1))"
   ]
  },
  {
   "cell_type": "code",
   "execution_count": null,
   "id": "6880b097",
   "metadata": {},
   "outputs": [],
   "source": []
  }
 ],
 "metadata": {
  "kernelspec": {
   "display_name": "Python 3 (ipykernel)",
   "language": "python",
   "name": "python3"
  },
  "language_info": {
   "codemirror_mode": {
    "name": "ipython",
    "version": 3
   },
   "file_extension": ".py",
   "mimetype": "text/x-python",
   "name": "python",
   "nbconvert_exporter": "python",
   "pygments_lexer": "ipython3",
   "version": "3.11.5"
  }
 },
 "nbformat": 4,
 "nbformat_minor": 5
}
